{
 "cells": [
  {
   "cell_type": "code",
   "execution_count": 1,
   "metadata": {},
   "outputs": [],
   "source": [
    "import mlflow"
   ]
  },
  {
   "cell_type": "code",
   "execution_count": 2,
   "metadata": {},
   "outputs": [],
   "source": [
    "dataset_name=\"jackson\"\n",
    "pred_target=\"ERStatus\"\n",
    "experiment_name = f\"san_{dataset_name}_{pred_target}\"\n",
    "mlflow.set_tracking_uri(\"file:///Users/santiago/eth/22-2/thesis/data/jackson/prediction_tasks/ERStatus/normalized_with_min_max/mlruns/\")"
   ]
  },
  {
   "cell_type": "code",
   "execution_count": 6,
   "metadata": {},
   "outputs": [],
   "source": [
    "# Define concept\n",
    "concept = \"concept_1_radius\"\n",
    "\n",
    "# Define query for MLFlow\n",
    "query = f\"\"\"\\\n",
    "    params.concept = \"{concept}\"\n",
    "    \"\"\"\n",
    "# Query\n",
    "df = mlflow.search_runs(\n",
    "        experiment_names=[experiment_name],\n",
    "        filter_string=query\n",
    ")"
   ]
  },
  {
   "cell_type": "code",
   "execution_count": 9,
   "metadata": {},
   "outputs": [
    {
     "data": {
      "text/plain": [
       "0    1\n",
       "1    2\n",
       "2    2\n",
       "3    1\n",
       "4    2\n",
       "5    1\n",
       "Name: params.seed, dtype: object"
      ]
     },
     "execution_count": 9,
     "metadata": {},
     "output_type": "execute_result"
    }
   ],
   "source": [
    "df[\"params.seed\"]"
   ]
  },
  {
   "cell_type": "code",
   "execution_count": null,
   "metadata": {},
   "outputs": [],
   "source": []
  }
 ],
 "metadata": {
  "kernelspec": {
   "display_name": "gcl",
   "language": "python",
   "name": "python3"
  },
  "language_info": {
   "codemirror_mode": {
    "name": "ipython",
    "version": 3
   },
   "file_extension": ".py",
   "mimetype": "text/x-python",
   "name": "python",
   "nbconvert_exporter": "python",
   "pygments_lexer": "ipython3",
   "version": "3.8.18"
  }
 },
 "nbformat": 4,
 "nbformat_minor": 2
}
